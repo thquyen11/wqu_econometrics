{
 "cells": [
  {
   "cell_type": "code",
   "execution_count": 1,
   "metadata": {},
   "outputs": [],
   "source": [
    "from matplotlib import gridspec\n",
    "import pandas as pd\n",
    "import numpy as np\n",
    "from datetime import datetime\n",
    "import matplotlib.pyplot as plt\n",
    "from statsmodels.tsa.api import VAR\n",
    "from statsmodels.tsa.stattools import adfuller\n",
    "from statsmodels.regression.linear_model import OLS\n",
    "import seaborn as sns"
   ]
  },
  {
   "cell_type": "code",
   "execution_count": 2,
   "metadata": {},
   "outputs": [],
   "source": [
    "btc_raw = pd.read_csv(\"BTC-USD.csv\", index_col=0, parse_dates=True, dayfirst=True)"
   ]
  },
  {
   "cell_type": "code",
   "execution_count": 3,
   "metadata": {},
   "outputs": [],
   "source": [
    "btc_raw['Returns'] = np.log(btc_raw['Adj Close'].astype(np.float)/btc_raw['Adj Close'].shift(1).astype(float))"
   ]
  },
  {
   "cell_type": "code",
   "execution_count": 4,
   "metadata": {},
   "outputs": [],
   "source": [
    "btc_raw = btc_raw[datetime(2018,1,1):datetime(2019,7,13)]"
   ]
  },
  {
   "cell_type": "code",
   "execution_count": 5,
   "metadata": {},
   "outputs": [],
   "source": [
    "btc_raw_insample = btc_raw[datetime(2018,1,1):datetime(2018,12,31)]"
   ]
  },
  {
   "cell_type": "code",
   "execution_count": 6,
   "metadata": {},
   "outputs": [],
   "source": [
    "btc_raw_outsample = btc_raw[datetime(2019,1,1):datetime(2019,7,13)]"
   ]
  },
  {
   "cell_type": "code",
   "execution_count": 7,
   "metadata": {},
   "outputs": [],
   "source": [
    "btc_raw = btc_raw_insample[1:]"
   ]
  },
  {
   "cell_type": "code",
   "execution_count": 8,
   "metadata": {},
   "outputs": [],
   "source": [
    "eth_raw = pd.read_csv(\"ETH-USD.csv\", index_col=0, parse_dates=True, dayfirst=True)"
   ]
  },
  {
   "cell_type": "code",
   "execution_count": 9,
   "metadata": {},
   "outputs": [],
   "source": [
    "eth_raw['Returns'] = np.log(eth_raw['Adj Close'].astype(np.float)/eth_raw['Adj Close'].shift(1).astype(float))"
   ]
  },
  {
   "cell_type": "code",
   "execution_count": 14,
   "metadata": {},
   "outputs": [],
   "source": [
    "eth_raw = eth_raw[datetime(2018,1,1):datetime(2019,7,13)]"
   ]
  },
  {
   "cell_type": "code",
   "execution_count": 22,
   "metadata": {},
   "outputs": [],
   "source": [
    "eth_raw_outsample = eth_raw[datetime(2019,1,1):datetime(2019,7,13)]"
   ]
  },
  {
   "cell_type": "code",
   "execution_count": 15,
   "metadata": {},
   "outputs": [],
   "source": [
    "eth_raw_insample = eth_raw[datetime(2018,1,1):datetime(2018,12,31)]"
   ]
  },
  {
   "cell_type": "code",
   "execution_count": 16,
   "metadata": {},
   "outputs": [],
   "source": [
    "eth_raw = eth_raw_insample[1:]"
   ]
  },
  {
   "cell_type": "code",
   "execution_count": 17,
   "metadata": {},
   "outputs": [],
   "source": [
    "returns1 = btc_raw['Returns'].values"
   ]
  },
  {
   "cell_type": "code",
   "execution_count": 18,
   "metadata": {},
   "outputs": [],
   "source": [
    "returns2 = eth_raw['Returns'].values"
   ]
  },
  {
   "cell_type": "code",
   "execution_count": 19,
   "metadata": {},
   "outputs": [],
   "source": [
    "Y1_t = btc_raw['Adj Close']"
   ]
  },
  {
   "cell_type": "code",
   "execution_count": 20,
   "metadata": {},
   "outputs": [],
   "source": [
    "Y2_t = eth_raw['Adj Close']"
   ]
  },
  {
   "cell_type": "code",
   "execution_count": null,
   "metadata": {},
   "outputs": [],
   "source": [
    "Y1_t_Series = pd.Series(Y1_t, name='Bitcoin')"
   ]
  },
  {
   "cell_type": "code",
   "execution_count": null,
   "metadata": {},
   "outputs": [],
   "source": [
    "Y2_t_Series = pd.Series(Y2_t, name='Ethereum')"
   ]
  },
  {
   "cell_type": "code",
   "execution_count": null,
   "metadata": {},
   "outputs": [],
   "source": [
    "returns1_os = btc_raw_outsample['Returns'].values"
   ]
  },
  {
   "cell_type": "code",
   "execution_count": null,
   "metadata": {},
   "outputs": [],
   "source": [
    "returns2_os = eth_raw_outsample['Returns'].values"
   ]
  },
  {
   "cell_type": "code",
   "execution_count": null,
   "metadata": {},
   "outputs": [],
   "source": [
    "Y1_t_os = btc_raw_outsample['Adj Close']"
   ]
  },
  {
   "cell_type": "code",
   "execution_count": null,
   "metadata": {},
   "outputs": [],
   "source": [
    "Y2_t_os = eth_raw_outsample['Adj Close']"
   ]
  },
  {
   "cell_type": "code",
   "execution_count": null,
   "metadata": {},
   "outputs": [],
   "source": [
    "Y1_t_Series_os = pd.Series(Y1_t_os, name='Bitcoin')"
   ]
  },
  {
   "cell_type": "code",
   "execution_count": null,
   "metadata": {},
   "outputs": [],
   "source": [
    "Y2_t_Series_os = pd.Series(Y2_t_os, name='Ethereum')"
   ]
  },
  {
   "cell_type": "code",
   "execution_count": null,
   "metadata": {},
   "outputs": [],
   "source": [
    "_ = Y1_t_Series.plot()\n",
    "_ = Y2_t_Series.plot()\n",
    "_ = plt.xlabel('Time')\n",
    "_ = plt.legend(['Bitcoin', 'Ethereum'], loc='upper left')"
   ]
  },
  {
   "cell_type": "code",
   "execution_count": null,
   "metadata": {},
   "outputs": [],
   "source": [
    "dY1_t = pd.Series(Y1_t, name='Δ Bitcoin').diff().dropna()"
   ]
  },
  {
   "cell_type": "code",
   "execution_count": null,
   "metadata": {},
   "outputs": [],
   "source": [
    "dY2_t = pd.Series(Y2_t, name='Δ Ethereum').diff().dropna()"
   ]
  },
  {
   "cell_type": "code",
   "execution_count": null,
   "metadata": {},
   "outputs": [],
   "source": [
    "_ = dY1_t.plot()\n",
    "_ = dY2_t.plot()\n",
    "_ = plt.xlabel('Time')\n",
    "_ = plt.legend(['Δ Bitcoin', 'Δ Ethereum'], loc='upper left')"
   ]
  },
  {
   "cell_type": "code",
   "execution_count": null,
   "metadata": {},
   "outputs": [],
   "source": [
    "print('Loading all VAR/OLS/Optimal Lag functions')\n",
    "%run Cointegration.py\n",
    "print('Additional functions loaded')"
   ]
  },
  {
   "cell_type": "code",
   "execution_count": null,
   "metadata": {},
   "outputs": [],
   "source": [
    "data = pd.concat([btc_raw['Returns'], eth_raw['Returns']], axis = 1, keys = ['Bitcoin Returns', 'Ethereum Returns'])"
   ]
  },
  {
   "cell_type": "code",
   "execution_count": null,
   "metadata": {},
   "outputs": [],
   "source": [
    "Yt = np.vstack((Y1_t, Y2_t))"
   ]
  },
  {
   "cell_type": "code",
   "execution_count": null,
   "metadata": {},
   "outputs": [],
   "source": [
    "Yr = np.vstack((returns1, returns2))"
   ]
  },
  {
   "cell_type": "code",
   "execution_count": null,
   "metadata": {},
   "outputs": [],
   "source": [
    "dY = np.vstack((dY1_t, dY2_t))"
   ]
  },
  {
   "cell_type": "code",
   "execution_count": null,
   "metadata": {},
   "outputs": [],
   "source": [
    "maxlags = int(round(12*(len(Yr)/100.)**(1/4)))"
   ]
  },
  {
   "cell_type": "code",
   "execution_count": null,
   "metadata": {},
   "outputs": [],
   "source": [
    "print('Maxlags to test: %d' % maxlags)"
   ]
  },
  {
   "cell_type": "code",
   "execution_count": null,
   "metadata": {},
   "outputs": [],
   "source": [
    "maxlagOptimumVectorAR = GetOptimalLag(Yr, maxlags, modelType='VectorAR')"
   ]
  },
  {
   "cell_type": "code",
   "execution_count": null,
   "metadata": {},
   "outputs": [],
   "source": [
    "print(maxlagOptimumVectorAR)"
   ]
  },
  {
   "cell_type": "code",
   "execution_count": null,
   "metadata": {},
   "outputs": [],
   "source": [
    "model = VAR(Yr.T)"
   ]
  },
  {
   "cell_type": "code",
   "execution_count": null,
   "metadata": {},
   "outputs": [],
   "source": [
    "results = model.fit(maxlags, method='ols', ic='aic', trend='c', verbose=True)"
   ]
  },
  {
   "cell_type": "code",
   "execution_count": null,
   "metadata": {},
   "outputs": [],
   "source": [
    "results.summary()"
   ]
  },
  {
   "cell_type": "code",
   "execution_count": null,
   "metadata": {},
   "outputs": [],
   "source": [
    "# Stability Check\n",
    "resultGetADFuller = GetADFuller(Y=dY1_t, maxlags = 0, regression='c')\n",
    "roots = resultGetADFuller['roots']\n",
    "IsStable(roots)"
   ]
  },
  {
   "cell_type": "code",
   "execution_count": null,
   "metadata": {},
   "outputs": [],
   "source": [
    "# Result from custom implementation\n",
    "\n",
    "print(\"ADF Statistic: %f\" % resultGetADFuller['adfstat'])"
   ]
  },
  {
   "cell_type": "code",
   "execution_count": null,
   "metadata": {},
   "outputs": [],
   "source": [
    "# Verify result from statsmodel implementation\n",
    "\n",
    "resultadfuller = adfuller(dY1_t, maxlag=0, regression='c', autolag=None, regresults=True)\n",
    "print(resultadfuller)"
   ]
  },
  {
   "cell_type": "code",
   "execution_count": null,
   "metadata": {},
   "outputs": [],
   "source": [
    "# Engle-Granger Self Implementation\n",
    "\n",
    "Y2_t_d = np.vstack((np.ones(len(Y2_t)), Y2_t))\n",
    "resultGetOLS = GetOLS(Y=Y1_t.values, X=Y2_t_d)\n",
    "\n",
    "a_hat = resultGetOLS['beta_hat'][0,0]\n",
    "beta2_hat = resultGetOLS['beta_hat'][0,1]\n",
    "\n",
    "et_hat = Y1_t - np.dot(beta2_hat, Y2_t) - a_hat\n",
    "\n",
    "result_et_hat_adf = GetADFuller(Y=et_hat, maxlags=1, regression='nc')\n",
    "print('ADF Statistic: %f' % result_et_hat_adf['adfstat'])"
   ]
  },
  {
   "cell_type": "code",
   "execution_count": null,
   "metadata": {},
   "outputs": [],
   "source": [
    "# Verifying above with statsmodel\n",
    "\n",
    "sm_result_et_hat_adf = adfuller(et_hat, maxlag=1, regression='nc', autolag=None, regresults=True)\n",
    "print(sm_result_et_hat_adf)\n",
    "\n",
    "resultols = OLS(Y1_t.T, Y2_t_d.T).fit()\n",
    "\n",
    "resultols.summary2()"
   ]
  },
  {
   "cell_type": "code",
   "execution_count": null,
   "metadata": {},
   "outputs": [],
   "source": [
    "# Plot OLS Fit\n",
    "\n",
    "# Generate equally spaced X values between the true X range\n",
    "x_axis = np.linspace(Y2_t.min(), Y2_t.max(), 100)\n",
    "\n",
    "#Plot the estimated dependent variable\n",
    "Y1_t_hat = a_hat + beta2_hat * x_axis\n",
    "\n",
    "# Plot own fit on top of seaborrn scatter + fit\n",
    "plt.title('Cointegrating Regression: Bitcoin and Ethereum')\n",
    "ax = sns.regplot(x=Y2_t_Series, y=Y1_t_Series, fit_reg=False)\n",
    "ax.plot(x_axis, Y1_t_hat, 'r')\n",
    "plt.legend(['OLS Fit', 'Real Values'], loc='lower right')"
   ]
  },
  {
   "cell_type": "code",
   "execution_count": null,
   "metadata": {
    "scrolled": true
   },
   "outputs": [],
   "source": [
    "plt.figure(1, figsize=(15,20))\n",
    "gs = gridspec.GridSpec(3, 1, height_ratios=[1, 0.5, 0.5])\n",
    "\n",
    "et_hat_series = pd.Series(et_hat, name = 'Spread')\n",
    "\n",
    "plt.subplot(gs[0])\n",
    "plt.title('Cointegrating Spread $\\hat{e}_t$ (Bitcoin and Ethereum)')\n",
    "et_hat_series.plot()\n",
    "plt.axhline(et_hat_series.mean(), color='red', linestyle='--')\n",
    "plt.legend(['$\\hat{e}_t$', 'mean={0:0.2g}'.format(et_hat_series.mean())], loc='lower right')\n",
    "plt.xlabel('')"
   ]
  },
  {
   "cell_type": "code",
   "execution_count": null,
   "metadata": {},
   "outputs": [],
   "source": [
    "# Spread Histogram\n",
    "\n",
    "plt.subplot(gs[1])\n",
    "\n",
    "from scipy import stats\n",
    "\n",
    "ax = sns.distplot(et_hat_series, bins=20, kde=False, fit=stats.norm)\n",
    "plt.title('Distribution of Cointegrating Spread For Bitcoin And Ethereum')\n",
    "\n",
    "# Get the fitted parameters used by Seaborn\n",
    "(mu, sigma) = stats.norm.fit(et_hat_series)\n",
    "print ('mu={%f}, sigma={%f}' % (mu, sigma))\n",
    "\n",
    "# Legend and Labels\n",
    "\n",
    "plt.legend([\"Normal Dist. Fit ($\\mu \\sim${0}, $\\sigma=${1:.2f})\".format(0, sigma),'$\\hat{e}_t$'])\n",
    "plt.xlabel('Value')\n",
    "plt.ylabel('Frequency')\n"
   ]
  },
  {
   "cell_type": "code",
   "execution_count": null,
   "metadata": {},
   "outputs": [],
   "source": [
    "\n",
    "from statsmodels.graphics.tsaplots import plot_pacf\n",
    "\n",
    "ax = plt.subplot(gs[2])\n",
    "plot_pacf(et_hat_series, lags=50, alpha=0.01, ax=ax)\n",
    "plt.title('')\n",
    "plt.xlabel('Lags')\n",
    "plt.ylabel('PACF')"
   ]
  },
  {
   "cell_type": "code",
   "execution_count": null,
   "metadata": {},
   "outputs": [],
   "source": []
  }
 ],
 "metadata": {
  "kernelspec": {
   "display_name": "Python 3",
   "language": "python",
   "name": "python3"
  },
  "language_info": {
   "codemirror_mode": {
    "name": "ipython",
    "version": 3
   },
   "file_extension": ".py",
   "mimetype": "text/x-python",
   "name": "python",
   "nbconvert_exporter": "python",
   "pygments_lexer": "ipython3",
   "version": "3.7.3"
  }
 },
 "nbformat": 4,
 "nbformat_minor": 2
}
